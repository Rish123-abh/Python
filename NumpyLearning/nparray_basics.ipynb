{
 "cells": [
  {
   "cell_type": "code",
   "execution_count": null,
   "id": "ade804b5-1361-421e-98ff-b6f5a3dd3c3d",
   "metadata": {},
   "outputs": [],
   "source": [
    "import numpy as np\n",
    "# numpy array is faster than  list , contains homogenous elements "
   ]
  },
  {
   "cell_type": "markdown",
   "id": "85884761-c2f0-4ce5-b9a3-6a5604d42c47",
   "metadata": {},
   "source": [
    "Basic Array Creation "
   ]
  },
  {
   "cell_type": "code",
   "execution_count": 3,
   "id": "c6ad678b-0a1d-47d7-b34e-0b81646b1513",
   "metadata": {},
   "outputs": [
    {
     "data": {
      "text/plain": [
       "array([1, 2, 3, 4, 5])"
      ]
     },
     "execution_count": 3,
     "metadata": {},
     "output_type": "execute_result"
    }
   ],
   "source": [
    "#Basic array creation \n",
    "\n",
    "arr=np.array([1,2,3,4,5])\n",
    "arr"
   ]
  },
  {
   "cell_type": "code",
   "execution_count": 4,
   "id": "e8a33c46-cca3-4083-9aa1-7f7061fe4e29",
   "metadata": {},
   "outputs": [],
   "source": [
    "a=[1,2,'hello']"
   ]
  },
  {
   "cell_type": "code",
   "execution_count": 5,
   "id": "dd817586-97d8-4374-a126-b832389c8996",
   "metadata": {},
   "outputs": [
    {
     "data": {
      "text/plain": [
       "array(['1', '2', 'hello'], dtype='<U21')"
      ]
     },
     "execution_count": 5,
     "metadata": {},
     "output_type": "execute_result"
    }
   ],
   "source": [
    "arr1=np.array(a)\n",
    "arr1\n",
    "# if different type then it is converted to single type below is an example"
   ]
  },
  {
   "cell_type": "code",
   "execution_count": 6,
   "id": "c1f34194-8993-4056-941e-d9c11cf1d188",
   "metadata": {},
   "outputs": [
    {
     "data": {
      "text/plain": [
       "[[1, 2, 3], [4, 5, 6], [7, 8, 9]]"
      ]
     },
     "execution_count": 6,
     "metadata": {},
     "output_type": "execute_result"
    }
   ],
   "source": [
    "l=[[1,2,3],[4,5,6],[7,8,9]]\n",
    "l"
   ]
  },
  {
   "cell_type": "code",
   "execution_count": 7,
   "id": "accf63b6-4bce-4b57-8544-32dfce4851a3",
   "metadata": {},
   "outputs": [
    {
     "data": {
      "text/plain": [
       "array([[1, 2, 3],\n",
       "       [4, 5, 6],\n",
       "       [7, 8, 9]])"
      ]
     },
     "execution_count": 7,
     "metadata": {},
     "output_type": "execute_result"
    }
   ],
   "source": [
    "matrix=np.array(l)\n",
    "matrix\n",
    "# with numpy 2d matrix will look like it while in simple list it is not "
   ]
  },
  {
   "cell_type": "markdown",
   "id": "3e726dae-10e2-4419-b722-279f01dffb7b",
   "metadata": {},
   "source": [
    "Array Generation Function"
   ]
  },
  {
   "cell_type": "code",
   "execution_count": 32,
   "id": "fa336990-8b0f-4284-94e7-d7b524a36de4",
   "metadata": {},
   "outputs": [
    {
     "data": {
      "text/plain": [
       "array([1, 3, 5, 7, 9])"
      ]
     },
     "execution_count": 32,
     "metadata": {},
     "output_type": "execute_result"
    }
   ],
   "source": [
    "# arange(start,end+1,step)\n",
    "# shift+tab can see the paramters of function \n",
    "arr=np.arange(1,11)\n",
    "arr\n",
    "\n",
    "arr2=np.arange(1,11,2)\n",
    "arr2"
   ]
  },
  {
   "cell_type": "code",
   "execution_count": 16,
   "id": "64e6f869-5e28-4804-9ddd-b6f49d4638f3",
   "metadata": {},
   "outputs": [
    {
     "data": {
      "text/plain": [
       "array([[0., 0., 0.],\n",
       "       [0., 0., 0.]])"
      ]
     },
     "execution_count": 16,
     "metadata": {},
     "output_type": "execute_result"
    }
   ],
   "source": [
    "arr=np.zeros((2,3))\n",
    "arr"
   ]
  },
  {
   "cell_type": "code",
   "execution_count": 18,
   "id": "20a61aab-b6b5-40cb-a42d-36ce3ff0d108",
   "metadata": {},
   "outputs": [
    {
     "data": {
      "text/plain": [
       "array([[1., 1., 1.],\n",
       "       [1., 1., 1.]])"
      ]
     },
     "execution_count": 18,
     "metadata": {},
     "output_type": "execute_result"
    }
   ],
   "source": [
    "arr=np.ones((2,3))\n",
    "arr"
   ]
  },
  {
   "cell_type": "code",
   "execution_count": 20,
   "id": "b3489a43-fa58-4889-9f18-751009924414",
   "metadata": {},
   "outputs": [
    {
     "data": {
      "text/plain": [
       "array([ 1.  , 13.25, 25.5 , 37.75, 50.  ])"
      ]
     },
     "execution_count": 20,
     "metadata": {},
     "output_type": "execute_result"
    }
   ],
   "source": [
    "arr=np.linspace(1,50,5)\n",
    "arr"
   ]
  },
  {
   "cell_type": "markdown",
   "id": "00fb4ad2-a45b-4e40-8492-8c3e985e3773",
   "metadata": {},
   "source": [
    "Random Array generation \n"
   ]
  },
  {
   "cell_type": "code",
   "execution_count": 23,
   "id": "1878d430-cc2e-46ab-9e03-c614415965f8",
   "metadata": {},
   "outputs": [
    {
     "data": {
      "text/plain": [
       "array([0.56369845, 0.39724808, 0.5916443 , 0.46345582, 0.58157092])"
      ]
     },
     "execution_count": 23,
     "metadata": {},
     "output_type": "execute_result"
    }
   ],
   "source": [
    "np.random.rand(5)\n",
    "# this will gave random numbers in array between 0 to 1 (NORMALIZATION)"
   ]
  },
  {
   "cell_type": "code",
   "execution_count": 24,
   "id": "51a7ee5d-94f9-4d15-bcd1-2b2b4b7cce5f",
   "metadata": {},
   "outputs": [
    {
     "data": {
      "text/plain": [
       "array([-0.38648109,  0.98636906,  0.23630102, -0.86232979,  1.55672923])"
      ]
     },
     "execution_count": 24,
     "metadata": {},
     "output_type": "execute_result"
    }
   ],
   "source": [
    "np.random.randn(5)\n",
    "# this will gave random numbers in array between -3 to 3 (STANDARDIZATION)"
   ]
  },
  {
   "cell_type": "code",
   "execution_count": 30,
   "id": "326d4d85-bf04-4806-83d8-1b62e3ffe6e0",
   "metadata": {},
   "outputs": [
    {
     "data": {
      "text/plain": [
       "array([19, 17, 10, 18, 15], dtype=int32)"
      ]
     },
     "execution_count": 30,
     "metadata": {},
     "output_type": "execute_result"
    }
   ],
   "source": [
    "np.random.randint(10,20,5)"
   ]
  },
  {
   "cell_type": "markdown",
   "id": "700eb165-8155-47d3-9cf2-3513ef5ad014",
   "metadata": {},
   "source": [
    "Array Attributes \n"
   ]
  },
  {
   "cell_type": "code",
   "execution_count": 35,
   "id": "2d4d9e57-d440-4f91-95be-dc5d04bcf5ad",
   "metadata": {},
   "outputs": [
    {
     "data": {
      "text/plain": [
       "array([[1, 2, 3],\n",
       "       [4, 5, 6],\n",
       "       [7, 8, 9]])"
      ]
     },
     "execution_count": 35,
     "metadata": {},
     "output_type": "execute_result"
    }
   ],
   "source": [
    "arr=np.array([[1,2,3],[4,5,6],[7,8,9]])\n",
    "arr"
   ]
  },
  {
   "cell_type": "code",
   "execution_count": 37,
   "id": "8e905925-fe9e-4301-b848-a2f7a73e0a7b",
   "metadata": {},
   "outputs": [
    {
     "data": {
      "text/plain": [
       "9"
      ]
     },
     "execution_count": 37,
     "metadata": {},
     "output_type": "execute_result"
    }
   ],
   "source": [
    "arr.size\n",
    "# size returns total number of array "
   ]
  },
  {
   "cell_type": "code",
   "execution_count": 38,
   "id": "2b381508-6923-4eb9-a4ac-bda9bfb3126b",
   "metadata": {},
   "outputs": [
    {
     "data": {
      "text/plain": [
       "(3, 3)"
      ]
     },
     "execution_count": 38,
     "metadata": {},
     "output_type": "execute_result"
    }
   ],
   "source": [
    "arr.shape\n",
    "# shape returns the no of rows and no of cols (tuple)"
   ]
  },
  {
   "cell_type": "code",
   "execution_count": 40,
   "id": "de7ccbc6-5fab-4af5-9d85-2371044c2734",
   "metadata": {},
   "outputs": [
    {
     "data": {
      "text/plain": [
       "2"
      ]
     },
     "execution_count": 40,
     "metadata": {},
     "output_type": "execute_result"
    }
   ],
   "source": [
    "arr.ndim"
   ]
  },
  {
   "cell_type": "code",
   "execution_count": 41,
   "id": "87a371cd-3e83-4c67-b1bb-6dc92207a57e",
   "metadata": {},
   "outputs": [
    {
     "data": {
      "text/plain": [
       "dtype('int64')"
      ]
     },
     "execution_count": 41,
     "metadata": {},
     "output_type": "execute_result"
    }
   ],
   "source": [
    "arr.dtype"
   ]
  },
  {
   "cell_type": "markdown",
   "id": "8bdb78a4-f3fd-42fa-8ce3-30c659d5a88c",
   "metadata": {},
   "source": [
    "Array Methods \n"
   ]
  },
  {
   "cell_type": "code",
   "execution_count": 42,
   "id": "7de4d23b-6655-4c1f-bd6d-1fdbe2c20d1c",
   "metadata": {},
   "outputs": [
    {
     "data": {
      "text/plain": [
       "np.int64(1)"
      ]
     },
     "execution_count": 42,
     "metadata": {},
     "output_type": "execute_result"
    }
   ],
   "source": [
    "arr.min()"
   ]
  },
  {
   "cell_type": "code",
   "execution_count": 43,
   "id": "986b3a73-87ef-4547-a7a5-2f5bbd81222c",
   "metadata": {},
   "outputs": [
    {
     "data": {
      "text/plain": [
       "np.int64(9)"
      ]
     },
     "execution_count": 43,
     "metadata": {},
     "output_type": "execute_result"
    }
   ],
   "source": [
    "arr.max()"
   ]
  },
  {
   "cell_type": "code",
   "execution_count": 44,
   "id": "27f21649-a78f-4edc-ab1c-501092518192",
   "metadata": {},
   "outputs": [
    {
     "data": {
      "text/plain": [
       "np.int64(45)"
      ]
     },
     "execution_count": 44,
     "metadata": {},
     "output_type": "execute_result"
    }
   ],
   "source": [
    "arr.sum()"
   ]
  },
  {
   "cell_type": "code",
   "execution_count": 46,
   "id": "1e0a4050-a57e-468e-ba95-1b1c6209762d",
   "metadata": {},
   "outputs": [
    {
     "data": {
      "text/plain": [
       "array([12, 15, 18])"
      ]
     },
     "execution_count": 46,
     "metadata": {},
     "output_type": "execute_result"
    }
   ],
   "source": [
    "np.sum(arr,axis=0)\n",
    "# axis=0 col wise sum  and axis=1 then row wise sum "
   ]
  },
  {
   "cell_type": "code",
   "execution_count": 47,
   "id": "1b8f1d41-3347-4a1a-a927-1f1a1cab7e0f",
   "metadata": {},
   "outputs": [
    {
     "data": {
      "text/plain": [
       "array([ 6, 15, 24])"
      ]
     },
     "execution_count": 47,
     "metadata": {},
     "output_type": "execute_result"
    }
   ],
   "source": [
    "np.sum(arr,axis=1)"
   ]
  },
  {
   "cell_type": "code",
   "execution_count": 48,
   "id": "8630587b-eb15-4e9f-b033-6852bfe8729f",
   "metadata": {},
   "outputs": [
    {
     "data": {
      "text/plain": [
       "np.float64(5.0)"
      ]
     },
     "execution_count": 48,
     "metadata": {},
     "output_type": "execute_result"
    }
   ],
   "source": [
    "arr.mean()"
   ]
  },
  {
   "cell_type": "code",
   "execution_count": 49,
   "id": "21767daa-424e-4c64-b82b-f4d1f024aed2",
   "metadata": {},
   "outputs": [
    {
     "data": {
      "text/plain": [
       "np.float64(2.581988897471611)"
      ]
     },
     "execution_count": 49,
     "metadata": {},
     "output_type": "execute_result"
    }
   ],
   "source": [
    "arr.std()"
   ]
  },
  {
   "cell_type": "code",
   "execution_count": 50,
   "id": "8ea7eaca-7892-4e81-bf21-69ef4504d59d",
   "metadata": {},
   "outputs": [
    {
     "data": {
      "text/plain": [
       "np.int64(8)"
      ]
     },
     "execution_count": 50,
     "metadata": {},
     "output_type": "execute_result"
    }
   ],
   "source": [
    "arr.argmax()\n",
    "# gives index of max value in array"
   ]
  },
  {
   "cell_type": "code",
   "execution_count": 52,
   "id": "38923d8b-6173-4d37-adb8-333e96c38180",
   "metadata": {},
   "outputs": [
    {
     "data": {
      "text/plain": [
       "np.int64(0)"
      ]
     },
     "execution_count": 52,
     "metadata": {},
     "output_type": "execute_result"
    }
   ],
   "source": [
    "arr.argmin()\n",
    "# gives index of min value in array"
   ]
  },
  {
   "cell_type": "markdown",
   "id": "57df4ee2-8ee4-4540-965f-a0069fd00ad0",
   "metadata": {},
   "source": [
    "Reshaping and resizing \n"
   ]
  },
  {
   "cell_type": "code",
   "execution_count": 54,
   "id": "517faab3-533a-4a94-a150-b14519f00f50",
   "metadata": {},
   "outputs": [
    {
     "data": {
      "text/plain": [
       "array([ 1,  2,  3,  4,  5,  6,  7,  8,  9, 10, 11, 12, 13, 14, 15, 16, 17,\n",
       "       18, 19, 20, 21, 22, 23, 24, 25, 26, 27, 28, 29, 30])"
      ]
     },
     "execution_count": 54,
     "metadata": {},
     "output_type": "execute_result"
    }
   ],
   "source": [
    "arr=np.arange(1,31)\n",
    "arr"
   ]
  },
  {
   "cell_type": "code",
   "execution_count": 56,
   "id": "710c2bda-8fa3-4a9e-a4cb-4f3c70b6d0ff",
   "metadata": {},
   "outputs": [
    {
     "data": {
      "text/plain": [
       "array([[ 1,  2,  3,  4,  5],\n",
       "       [ 6,  7,  8,  9, 10],\n",
       "       [11, 12, 13, 14, 15],\n",
       "       [16, 17, 18, 19, 20],\n",
       "       [21, 22, 23, 24, 25],\n",
       "       [26, 27, 28, 29, 30]])"
      ]
     },
     "execution_count": 56,
     "metadata": {},
     "output_type": "execute_result"
    }
   ],
   "source": [
    "arr=arr.reshape(6,5)\n",
    "arr"
   ]
  },
  {
   "cell_type": "code",
   "execution_count": null,
   "id": "96df71b1-ae4e-4c4b-aafc-d5ad167d0425",
   "metadata": {},
   "outputs": [],
   "source": []
  }
 ],
 "metadata": {
  "kernelspec": {
   "display_name": "Python [conda env:base] *",
   "language": "python",
   "name": "conda-base-py"
  },
  "language_info": {
   "codemirror_mode": {
    "name": "ipython",
    "version": 3
   },
   "file_extension": ".py",
   "mimetype": "text/x-python",
   "name": "python",
   "nbconvert_exporter": "python",
   "pygments_lexer": "ipython3",
   "version": "3.13.5"
  }
 },
 "nbformat": 4,
 "nbformat_minor": 5
}
